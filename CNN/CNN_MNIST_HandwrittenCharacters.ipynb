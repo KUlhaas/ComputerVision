{
 "cells": [
  {
   "cell_type": "markdown",
   "id": "230fa308",
   "metadata": {},
   "source": [
    "# Importiere Bibliotheken"
   ]
  },
  {
   "cell_type": "code",
   "execution_count": 39,
   "id": "e59f0cb9",
   "metadata": {},
   "outputs": [],
   "source": [
    "import torch\n",
    "import torch.nn as nn\n",
    "import numpy as np\n",
    "from torchvision import datasets\n",
    "from torchvision.transforms import ToTensor\n",
    "import matplotlib.pyplot as plt"
   ]
  },
  {
   "cell_type": "markdown",
   "id": "67d8cf37",
   "metadata": {},
   "source": [
    "# Lege die Trainigsdaten fest und lade sie herunter"
   ]
  },
  {
   "cell_type": "code",
   "execution_count": 2,
   "id": "e10d71c7",
   "metadata": {},
   "outputs": [
    {
     "name": "stdout",
     "output_type": "stream",
     "text": [
      "Downloading http://yann.lecun.com/exdb/mnist/train-images-idx3-ubyte.gz\n",
      "Downloading http://yann.lecun.com/exdb/mnist/train-images-idx3-ubyte.gz to data/MNIST/raw/train-images-idx3-ubyte.gz\n"
     ]
    },
    {
     "name": "stderr",
     "output_type": "stream",
     "text": [
      "100%|███████████████████████████████████| 9912422/9912422 [00:00<00:00, 15999858.09it/s]\n"
     ]
    },
    {
     "name": "stdout",
     "output_type": "stream",
     "text": [
      "Extracting data/MNIST/raw/train-images-idx3-ubyte.gz to data/MNIST/raw\n",
      "\n",
      "Downloading http://yann.lecun.com/exdb/mnist/train-labels-idx1-ubyte.gz\n",
      "Downloading http://yann.lecun.com/exdb/mnist/train-labels-idx1-ubyte.gz to data/MNIST/raw/train-labels-idx1-ubyte.gz\n"
     ]
    },
    {
     "name": "stderr",
     "output_type": "stream",
     "text": [
      "100%|███████████████████████████████████████| 28881/28881 [00:00<00:00, 26693630.19it/s]\n"
     ]
    },
    {
     "name": "stdout",
     "output_type": "stream",
     "text": [
      "Extracting data/MNIST/raw/train-labels-idx1-ubyte.gz to data/MNIST/raw\n",
      "\n",
      "Downloading http://yann.lecun.com/exdb/mnist/t10k-images-idx3-ubyte.gz\n",
      "Downloading http://yann.lecun.com/exdb/mnist/t10k-images-idx3-ubyte.gz to data/MNIST/raw/t10k-images-idx3-ubyte.gz\n"
     ]
    },
    {
     "name": "stderr",
     "output_type": "stream",
     "text": [
      "100%|███████████████████████████████████| 1648877/1648877 [00:00<00:00, 12253311.24it/s]\n"
     ]
    },
    {
     "name": "stdout",
     "output_type": "stream",
     "text": [
      "Extracting data/MNIST/raw/t10k-images-idx3-ubyte.gz to data/MNIST/raw\n",
      "\n",
      "Downloading http://yann.lecun.com/exdb/mnist/t10k-labels-idx1-ubyte.gz\n",
      "Downloading http://yann.lecun.com/exdb/mnist/t10k-labels-idx1-ubyte.gz to data/MNIST/raw/t10k-labels-idx1-ubyte.gz\n"
     ]
    },
    {
     "name": "stderr",
     "output_type": "stream",
     "text": [
      "100%|██████████████████████████████████████████| 4542/4542 [00:00<00:00, 5512305.78it/s]\n"
     ]
    },
    {
     "name": "stdout",
     "output_type": "stream",
     "text": [
      "Extracting data/MNIST/raw/t10k-labels-idx1-ubyte.gz to data/MNIST/raw\n",
      "\n"
     ]
    }
   ],
   "source": [
    "train_data = datasets.MNIST(\n",
    "    root = 'data',\n",
    "    train = True,                         \n",
    "    transform = ToTensor(), \n",
    "    download = True,            \n",
    ")"
   ]
  },
  {
   "cell_type": "markdown",
   "id": "84d53cf0",
   "metadata": {},
   "source": [
    "# Lege die Testdaten fest"
   ]
  },
  {
   "cell_type": "code",
   "execution_count": 3,
   "id": "2a51a170",
   "metadata": {},
   "outputs": [],
   "source": [
    "test_data = datasets.MNIST(\n",
    "    root = 'data', \n",
    "    train = False, \n",
    "    transform = ToTensor()\n",
    ")"
   ]
  },
  {
   "cell_type": "code",
   "execution_count": 4,
   "id": "242dd59a",
   "metadata": {},
   "outputs": [
    {
     "name": "stdout",
     "output_type": "stream",
     "text": [
      "Dataset MNIST\n",
      "    Number of datapoints: 60000\n",
      "    Root location: data\n",
      "    Split: Train\n",
      "    StandardTransform\n",
      "Transform: ToTensor()\n",
      "Dataset MNIST\n",
      "    Number of datapoints: 10000\n",
      "    Root location: data\n",
      "    Split: Test\n",
      "    StandardTransform\n",
      "Transform: ToTensor()\n",
      "torch.Size([60000, 28, 28])\n",
      "torch.Size([60000])\n"
     ]
    }
   ],
   "source": [
    "print(train_data)\n",
    "print(test_data)\n",
    "print(train_data.data.size())\n",
    "print(train_data.targets.size())"
   ]
  },
  {
   "cell_type": "markdown",
   "id": "730bb77b",
   "metadata": {},
   "source": [
    "# Zeige einen Trainingsdatensatz an"
   ]
  },
  {
   "cell_type": "code",
   "execution_count": 26,
   "id": "b3c43b89",
   "metadata": {},
   "outputs": [
    {
     "name": "stdout",
     "output_type": "stream",
     "text": [
      "tensor([[  0,   0,   0,   0,   0,   0,   0,   0,   0,   0,   0,   0,   0,   0,\n",
      "           0,   0,   0,   0,   0,   0,   0,   0,   0,   0,   0,   0,   0,   0],\n",
      "        [  0,   0,   0,   0,   0,   0,   0,   0,   0,   0,   0,   0,   0,   0,\n",
      "           0,   0,   0,   0,   0,   0,   0,   0,   0,   0,   0,   0,   0,   0],\n",
      "        [  0,   0,   0,   0,   0,   0,   0,   0,   0,   0,   0,   0,   0,   0,\n",
      "           0,   0,   0,   0,   0,   0,   0,   0,   0,   0,   0,   0,   0,   0],\n",
      "        [  0,   0,   0,   0,   0,   0,   0,   0,   0,   0,   0,   0,   0,   0,\n",
      "           0,   0,   0,   0,   0,   0,   0,   0,   0,   0,   0,   0,   0,   0],\n",
      "        [  0,   0,   0,   0,   0,   0,   0,   0,   0,   0,   0,   0,   0,   0,\n",
      "           0,   0,   0,   0,   0,   0,   0,   0,   0,   0,   0,   0,   0,   0],\n",
      "        [  0,   0,   0,   0,   0,   0,   0,   0,   0,   0,   0,   0,   3,  18,\n",
      "          18,  18, 126, 136, 175,  26, 166, 255, 247, 127,   0,   0,   0,   0],\n",
      "        [  0,   0,   0,   0,   0,   0,   0,   0,  30,  36,  94, 154, 170, 253,\n",
      "         253, 253, 253, 253, 225, 172, 253, 242, 195,  64,   0,   0,   0,   0],\n",
      "        [  0,   0,   0,   0,   0,   0,   0,  49, 238, 253, 253, 253, 253, 253,\n",
      "         253, 253, 253, 251,  93,  82,  82,  56,  39,   0,   0,   0,   0,   0],\n",
      "        [  0,   0,   0,   0,   0,   0,   0,  18, 219, 253, 253, 253, 253, 253,\n",
      "         198, 182, 247, 241,   0,   0,   0,   0,   0,   0,   0,   0,   0,   0],\n",
      "        [  0,   0,   0,   0,   0,   0,   0,   0,  80, 156, 107, 253, 253, 205,\n",
      "          11,   0,  43, 154,   0,   0,   0,   0,   0,   0,   0,   0,   0,   0],\n",
      "        [  0,   0,   0,   0,   0,   0,   0,   0,   0,  14,   1, 154, 253,  90,\n",
      "           0,   0,   0,   0,   0,   0,   0,   0,   0,   0,   0,   0,   0,   0],\n",
      "        [  0,   0,   0,   0,   0,   0,   0,   0,   0,   0,   0, 139, 253, 190,\n",
      "           2,   0,   0,   0,   0,   0,   0,   0,   0,   0,   0,   0,   0,   0],\n",
      "        [  0,   0,   0,   0,   0,   0,   0,   0,   0,   0,   0,  11, 190, 253,\n",
      "          70,   0,   0,   0,   0,   0,   0,   0,   0,   0,   0,   0,   0,   0],\n",
      "        [  0,   0,   0,   0,   0,   0,   0,   0,   0,   0,   0,   0,  35, 241,\n",
      "         225, 160, 108,   1,   0,   0,   0,   0,   0,   0,   0,   0,   0,   0],\n",
      "        [  0,   0,   0,   0,   0,   0,   0,   0,   0,   0,   0,   0,   0,  81,\n",
      "         240, 253, 253, 119,  25,   0,   0,   0,   0,   0,   0,   0,   0,   0],\n",
      "        [  0,   0,   0,   0,   0,   0,   0,   0,   0,   0,   0,   0,   0,   0,\n",
      "          45, 186, 253, 253, 150,  27,   0,   0,   0,   0,   0,   0,   0,   0],\n",
      "        [  0,   0,   0,   0,   0,   0,   0,   0,   0,   0,   0,   0,   0,   0,\n",
      "           0,  16,  93, 252, 253, 187,   0,   0,   0,   0,   0,   0,   0,   0],\n",
      "        [  0,   0,   0,   0,   0,   0,   0,   0,   0,   0,   0,   0,   0,   0,\n",
      "           0,   0,   0, 249, 253, 249,  64,   0,   0,   0,   0,   0,   0,   0],\n",
      "        [  0,   0,   0,   0,   0,   0,   0,   0,   0,   0,   0,   0,   0,   0,\n",
      "          46, 130, 183, 253, 253, 207,   2,   0,   0,   0,   0,   0,   0,   0],\n",
      "        [  0,   0,   0,   0,   0,   0,   0,   0,   0,   0,   0,   0,  39, 148,\n",
      "         229, 253, 253, 253, 250, 182,   0,   0,   0,   0,   0,   0,   0,   0],\n",
      "        [  0,   0,   0,   0,   0,   0,   0,   0,   0,   0,  24, 114, 221, 253,\n",
      "         253, 253, 253, 201,  78,   0,   0,   0,   0,   0,   0,   0,   0,   0],\n",
      "        [  0,   0,   0,   0,   0,   0,   0,   0,  23,  66, 213, 253, 253, 253,\n",
      "         253, 198,  81,   2,   0,   0,   0,   0,   0,   0,   0,   0,   0,   0],\n",
      "        [  0,   0,   0,   0,   0,   0,  18, 171, 219, 253, 253, 253, 253, 195,\n",
      "          80,   9,   0,   0,   0,   0,   0,   0,   0,   0,   0,   0,   0,   0],\n",
      "        [  0,   0,   0,   0,  55, 172, 226, 253, 253, 253, 253, 244, 133,  11,\n",
      "           0,   0,   0,   0,   0,   0,   0,   0,   0,   0,   0,   0,   0,   0],\n",
      "        [  0,   0,   0,   0, 136, 253, 253, 253, 212, 135, 132,  16,   0,   0,\n",
      "           0,   0,   0,   0,   0,   0,   0,   0,   0,   0,   0,   0,   0,   0],\n",
      "        [  0,   0,   0,   0,   0,   0,   0,   0,   0,   0,   0,   0,   0,   0,\n",
      "           0,   0,   0,   0,   0,   0,   0,   0,   0,   0,   0,   0,   0,   0],\n",
      "        [  0,   0,   0,   0,   0,   0,   0,   0,   0,   0,   0,   0,   0,   0,\n",
      "           0,   0,   0,   0,   0,   0,   0,   0,   0,   0,   0,   0,   0,   0],\n",
      "        [  0,   0,   0,   0,   0,   0,   0,   0,   0,   0,   0,   0,   0,   0,\n",
      "           0,   0,   0,   0,   0,   0,   0,   0,   0,   0,   0,   0,   0,   0]],\n",
      "       dtype=torch.uint8)\n"
     ]
    }
   ],
   "source": [
    "print(train_data.data[0])"
   ]
  },
  {
   "cell_type": "code",
   "execution_count": 5,
   "id": "23b10cd1",
   "metadata": {},
   "outputs": [
    {
     "data": {
      "image/png": "[encoded data removed]",
      "text/plain": [
       "<Figure size 640x480 with 1 Axes>"
      ]
     },
     "metadata": {},
     "output_type": "display_data"
    }
   ],
   "source": [
    "plt.imshow(train_data.data[0], cmap='gray')\n",
    "plt.title('%i' % train_data.targets[0])\n",
    "plt.show()"
   ]
  },
  {
   "cell_type": "markdown",
   "id": "dffc516e",
   "metadata": {},
   "source": [
    "# Zeige mehrere Trainingsdaten an"
   ]
  },
  {
   "cell_type": "code",
   "execution_count": 6,
   "id": "63e5b4fb",
   "metadata": {},
   "outputs": [
    {
     "data": {
      "image/png": "[encoded data removed]",
      "text/plain": [
       "<Figure size 1000x800 with 25 Axes>"
      ]
     },
     "metadata": {},
     "output_type": "display_data"
    }
   ],
   "source": [
    "figure = plt.figure(figsize=(10, 8))\n",
    "cols, rows = 5, 5\n",
    "for i in range(1, cols * rows + 1):\n",
    "    sample_idx = torch.randint(len(train_data), size=(1,)).item()\n",
    "    img, label = train_data[sample_idx]\n",
    "    figure.add_subplot(rows, cols, i)\n",
    "    plt.title(label)\n",
    "    plt.axis(\"off\")\n",
    "    plt.imshow(img.squeeze(), cmap=\"gray\")\n",
    "plt.show()"
   ]
  },
  {
   "cell_type": "markdown",
   "id": "7aeefe78",
   "metadata": {},
   "source": [
    "# Für das Training und Testen werden DatenLoader benötigt, \n",
    "die die Daten in kleinere Häppchen aufteilen und dem Overfitting mit einer Umstrukturierung (shuffle) der Daten entgegenwirken."
   ]
  },
  {
   "cell_type": "code",
   "execution_count": 9,
   "id": "82ba0360",
   "metadata": {},
   "outputs": [
    {
     "data": {
      "text/plain": [
       "{'train': <torch.utils.data.dataloader.DataLoader at 0x157742c10>,\n",
       " 'test': <torch.utils.data.dataloader.DataLoader at 0x1576a0610>}"
      ]
     },
     "execution_count": 9,
     "metadata": {},
     "output_type": "execute_result"
    }
   ],
   "source": [
    "loaders = {\n",
    "    'train' : torch.utils.data.DataLoader(train_data, \n",
    "                                          batch_size=100, \n",
    "                                          shuffle=True, \n",
    "                                          num_workers=1),\n",
    "    \n",
    "    'test'  : torch.utils.data.DataLoader(test_data, \n",
    "                                          batch_size=100, \n",
    "                                          shuffle=True, \n",
    "                                          num_workers=1),\n",
    "}\n",
    "loaders"
   ]
  },
  {
   "cell_type": "code",
   "execution_count": 10,
   "id": "9be3a1f4",
   "metadata": {},
   "outputs": [],
   "source": [
    "import torch.nn as nn\n",
    "class CNN(nn.Module):\n",
    "    def __init__(self):\n",
    "        super(CNN, self).__init__()\n",
    "        self.conv1 = nn.Sequential(         \n",
    "            nn.Conv2d(\n",
    "                in_channels=1,              \n",
    "                out_channels=16,            \n",
    "                kernel_size=5,              \n",
    "                stride=1,                   \n",
    "                padding=2,                  \n",
    "            ),                              \n",
    "            nn.ReLU(),                      \n",
    "            nn.MaxPool2d(kernel_size=2),    \n",
    "        )\n",
    "        self.conv2 = nn.Sequential(         \n",
    "            nn.Conv2d(16, 32, 5, 1, 2),     \n",
    "            nn.ReLU(),                      \n",
    "            nn.MaxPool2d(2),                \n",
    "        )\n",
    "        # fully connected layer, output 10 classes\n",
    "        self.out = nn.Linear(32 * 7 * 7, 10)\n",
    "    def forward(self, x):\n",
    "        x = self.conv1(x)\n",
    "        x = self.conv2(x)\n",
    "        # flatten the output of conv2 to (batch_size, 32 * 7 * 7)\n",
    "        x = x.view(x.size(0), -1)       \n",
    "        output = self.out(x)\n",
    "        return output, x    # return x for visualization"
   ]
  },
  {
   "cell_type": "code",
   "execution_count": 11,
   "id": "48e06e78",
   "metadata": {},
   "outputs": [
    {
     "name": "stdout",
     "output_type": "stream",
     "text": [
      "CNN(\n",
      "  (conv1): Sequential(\n",
      "    (0): Conv2d(1, 16, kernel_size=(5, 5), stride=(1, 1), padding=(2, 2))\n",
      "    (1): ReLU()\n",
      "    (2): MaxPool2d(kernel_size=2, stride=2, padding=0, dilation=1, ceil_mode=False)\n",
      "  )\n",
      "  (conv2): Sequential(\n",
      "    (0): Conv2d(16, 32, kernel_size=(5, 5), stride=(1, 1), padding=(2, 2))\n",
      "    (1): ReLU()\n",
      "    (2): MaxPool2d(kernel_size=2, stride=2, padding=0, dilation=1, ceil_mode=False)\n",
      "  )\n",
      "  (out): Linear(in_features=1568, out_features=10, bias=True)\n",
      ")\n"
     ]
    },
    {
     "data": {
      "text/plain": [
       "CrossEntropyLoss()"
      ]
     },
     "execution_count": 11,
     "metadata": {},
     "output_type": "execute_result"
    }
   ],
   "source": [
    "cnn = CNN()\n",
    "print(cnn)\n",
    "\n",
    "loss_func = nn.CrossEntropyLoss()   \n",
    "loss_func"
   ]
  },
  {
   "cell_type": "markdown",
   "id": "fe1908f5",
   "metadata": {},
   "source": [
    "# Definiere eine Optimierungsfunktion"
   ]
  },
  {
   "cell_type": "code",
   "execution_count": 12,
   "id": "067fe3cb",
   "metadata": {
    "scrolled": true
   },
   "outputs": [
    {
     "data": {
      "text/plain": [
       "Adam (\n",
       "Parameter Group 0\n",
       "    amsgrad: False\n",
       "    betas: (0.9, 0.999)\n",
       "    capturable: False\n",
       "    differentiable: False\n",
       "    eps: 1e-08\n",
       "    foreach: None\n",
       "    fused: None\n",
       "    lr: 0.01\n",
       "    maximize: False\n",
       "    weight_decay: 0\n",
       ")"
      ]
     },
     "execution_count": 12,
     "metadata": {},
     "output_type": "execute_result"
    }
   ],
   "source": [
    "from torch import optim\n",
    "optimizer = optim.Adam(cnn.parameters(), lr = 0.01)   \n",
    "optimizer"
   ]
  },
  {
   "cell_type": "markdown",
   "id": "f4d2538d",
   "metadata": {},
   "source": [
    "# Setze die GPU als device, wenn möglich "
   ]
  },
  {
   "cell_type": "code",
   "execution_count": 14,
   "id": "34280089",
   "metadata": {},
   "outputs": [
    {
     "data": {
      "text/plain": [
       "'mps'"
      ]
     },
     "execution_count": 14,
     "metadata": {},
     "output_type": "execute_result"
    }
   ],
   "source": [
    "device = \"mps\" if torch.backends.mps.is_available() else \"cpu\"\n",
    "device"
   ]
  },
  {
   "cell_type": "markdown",
   "id": "5c7bd75c",
   "metadata": {},
   "source": [
    "# Trainiere das Tiefe Neuronale Netz"
   ]
  },
  {
   "cell_type": "code",
   "execution_count": 15,
   "id": "9b8f9585",
   "metadata": {},
   "outputs": [
    {
     "name": "stdout",
     "output_type": "stream",
     "text": [
      "Epoch [1/10], Step [100/600], Loss: 0.0732\n",
      "Epoch [1/10], Step [200/600], Loss: 0.0289\n",
      "Epoch [1/10], Step [300/600], Loss: 0.0833\n",
      "Epoch [1/10], Step [400/600], Loss: 0.0252\n",
      "Epoch [1/10], Step [500/600], Loss: 0.0259\n",
      "Epoch [1/10], Step [600/600], Loss: 0.0728\n",
      "Epoch [2/10], Step [100/600], Loss: 0.0094\n",
      "Epoch [2/10], Step [200/600], Loss: 0.0237\n",
      "Epoch [2/10], Step [300/600], Loss: 0.0026\n",
      "Epoch [2/10], Step [400/600], Loss: 0.0435\n",
      "Epoch [2/10], Step [500/600], Loss: 0.0472\n",
      "Epoch [2/10], Step [600/600], Loss: 0.0494\n",
      "Epoch [3/10], Step [100/600], Loss: 0.0821\n",
      "Epoch [3/10], Step [200/600], Loss: 0.0216\n",
      "Epoch [3/10], Step [300/600], Loss: 0.0013\n",
      "Epoch [3/10], Step [400/600], Loss: 0.0279\n",
      "Epoch [3/10], Step [500/600], Loss: 0.0624\n",
      "Epoch [3/10], Step [600/600], Loss: 0.0343\n",
      "Epoch [4/10], Step [100/600], Loss: 0.0168\n",
      "Epoch [4/10], Step [200/600], Loss: 0.0070\n",
      "Epoch [4/10], Step [300/600], Loss: 0.0039\n",
      "Epoch [4/10], Step [400/600], Loss: 0.0386\n",
      "Epoch [4/10], Step [500/600], Loss: 0.0845\n",
      "Epoch [4/10], Step [600/600], Loss: 0.0103\n",
      "Epoch [5/10], Step [100/600], Loss: 0.0113\n",
      "Epoch [5/10], Step [200/600], Loss: 0.0076\n",
      "Epoch [5/10], Step [300/600], Loss: 0.0276\n",
      "Epoch [5/10], Step [400/600], Loss: 0.0425\n",
      "Epoch [5/10], Step [500/600], Loss: 0.1071\n",
      "Epoch [5/10], Step [600/600], Loss: 0.0523\n",
      "Epoch [6/10], Step [100/600], Loss: 0.0073\n",
      "Epoch [6/10], Step [200/600], Loss: 0.0005\n",
      "Epoch [6/10], Step [300/600], Loss: 0.0025\n",
      "Epoch [6/10], Step [400/600], Loss: 0.0110\n",
      "Epoch [6/10], Step [500/600], Loss: 0.1024\n",
      "Epoch [6/10], Step [600/600], Loss: 0.0011\n",
      "Epoch [7/10], Step [100/600], Loss: 0.0102\n",
      "Epoch [7/10], Step [200/600], Loss: 0.0425\n",
      "Epoch [7/10], Step [300/600], Loss: 0.0014\n",
      "Epoch [7/10], Step [400/600], Loss: 0.0278\n",
      "Epoch [7/10], Step [500/600], Loss: 0.0011\n",
      "Epoch [7/10], Step [600/600], Loss: 0.0133\n",
      "Epoch [8/10], Step [100/600], Loss: 0.1378\n",
      "Epoch [8/10], Step [200/600], Loss: 0.2319\n",
      "Epoch [8/10], Step [300/600], Loss: 0.1062\n",
      "Epoch [8/10], Step [400/600], Loss: 0.0008\n",
      "Epoch [8/10], Step [500/600], Loss: 0.0535\n",
      "Epoch [8/10], Step [600/600], Loss: 0.0462\n",
      "Epoch [9/10], Step [100/600], Loss: 0.0409\n",
      "Epoch [9/10], Step [200/600], Loss: 0.0213\n",
      "Epoch [9/10], Step [300/600], Loss: 0.0523\n",
      "Epoch [9/10], Step [400/600], Loss: 0.0873\n",
      "Epoch [9/10], Step [500/600], Loss: 0.0282\n",
      "Epoch [9/10], Step [600/600], Loss: 0.0348\n",
      "Epoch [10/10], Step [100/600], Loss: 0.0158\n",
      "Epoch [10/10], Step [200/600], Loss: 0.0020\n",
      "Epoch [10/10], Step [300/600], Loss: 0.0134\n",
      "Epoch [10/10], Step [400/600], Loss: 0.0001\n",
      "Epoch [10/10], Step [500/600], Loss: 0.0758\n",
      "Epoch [10/10], Step [600/600], Loss: 0.0808\n"
     ]
    }
   ],
   "source": [
    "from torch.autograd import Variable\n",
    "num_epochs = 10\n",
    "def train(num_epochs, cnn, loaders):\n",
    "    \n",
    "    cnn.train()\n",
    "        \n",
    "    # Train the model\n",
    "    total_step = len(loaders['train'])\n",
    "        \n",
    "    for epoch in range(num_epochs):\n",
    "        for i, (images, labels) in enumerate(loaders['train']):\n",
    "            \n",
    "            # gives batch data, normalize x when iterate train_loader\n",
    "            b_x = Variable(images)   # batch x\n",
    "            b_y = Variable(labels)   # batch y\n",
    "            output = cnn(b_x)[0]\n",
    "            loss = loss_func(output, b_y)\n",
    "            \n",
    "            # clear gradients for this training step   \n",
    "            optimizer.zero_grad()           \n",
    "            \n",
    "            # backpropagation, compute gradients \n",
    "            loss.backward()    \n",
    "            # apply gradients             \n",
    "            optimizer.step()                \n",
    "            \n",
    "            if (i+1) % 100 == 0:\n",
    "                print ('Epoch [{}/{}], Step [{}/{}], Loss: {:.4f}' \n",
    "                       .format(epoch + 1, num_epochs, i + 1, total_step, loss.item()))\n",
    "  \n",
    "train(num_epochs, cnn, loaders)"
   ]
  },
  {
   "cell_type": "markdown",
   "id": "f831715c",
   "metadata": {},
   "source": [
    "# Evaluiere das Modell (TNN) mit dem Testdatensatz"
   ]
  },
  {
   "cell_type": "code",
   "execution_count": 16,
   "id": "f4d0be6e",
   "metadata": {},
   "outputs": [
    {
     "name": "stdout",
     "output_type": "stream",
     "text": [
      "Test Accuracy of the model on the 10000 test images: 0.97\n",
      "Test Accuracy of the model on the 10000 test images: 0.98\n",
      "Test Accuracy of the model on the 10000 test images: 1.00\n",
      "Test Accuracy of the model on the 10000 test images: 1.00\n",
      "Test Accuracy of the model on the 10000 test images: 0.99\n",
      "Test Accuracy of the model on the 10000 test images: 0.99\n",
      "Test Accuracy of the model on the 10000 test images: 0.95\n",
      "Test Accuracy of the model on the 10000 test images: 1.00\n",
      "Test Accuracy of the model on the 10000 test images: 1.00\n",
      "Test Accuracy of the model on the 10000 test images: 0.98\n",
      "Test Accuracy of the model on the 10000 test images: 0.99\n",
      "Test Accuracy of the model on the 10000 test images: 0.99\n",
      "Test Accuracy of the model on the 10000 test images: 0.97\n",
      "Test Accuracy of the model on the 10000 test images: 0.99\n",
      "Test Accuracy of the model on the 10000 test images: 1.00\n",
      "Test Accuracy of the model on the 10000 test images: 0.99\n",
      "Test Accuracy of the model on the 10000 test images: 0.99\n",
      "Test Accuracy of the model on the 10000 test images: 0.99\n",
      "Test Accuracy of the model on the 10000 test images: 0.98\n",
      "Test Accuracy of the model on the 10000 test images: 0.98\n",
      "Test Accuracy of the model on the 10000 test images: 1.00\n",
      "Test Accuracy of the model on the 10000 test images: 0.97\n",
      "Test Accuracy of the model on the 10000 test images: 0.98\n",
      "Test Accuracy of the model on the 10000 test images: 0.98\n",
      "Test Accuracy of the model on the 10000 test images: 0.98\n",
      "Test Accuracy of the model on the 10000 test images: 0.99\n",
      "Test Accuracy of the model on the 10000 test images: 0.98\n",
      "Test Accuracy of the model on the 10000 test images: 0.96\n",
      "Test Accuracy of the model on the 10000 test images: 0.99\n",
      "Test Accuracy of the model on the 10000 test images: 1.00\n",
      "Test Accuracy of the model on the 10000 test images: 0.99\n",
      "Test Accuracy of the model on the 10000 test images: 0.99\n",
      "Test Accuracy of the model on the 10000 test images: 0.98\n",
      "Test Accuracy of the model on the 10000 test images: 1.00\n",
      "Test Accuracy of the model on the 10000 test images: 1.00\n",
      "Test Accuracy of the model on the 10000 test images: 0.99\n",
      "Test Accuracy of the model on the 10000 test images: 0.98\n",
      "Test Accuracy of the model on the 10000 test images: 0.98\n",
      "Test Accuracy of the model on the 10000 test images: 0.99\n",
      "Test Accuracy of the model on the 10000 test images: 0.99\n",
      "Test Accuracy of the model on the 10000 test images: 0.98\n",
      "Test Accuracy of the model on the 10000 test images: 0.99\n",
      "Test Accuracy of the model on the 10000 test images: 0.98\n",
      "Test Accuracy of the model on the 10000 test images: 0.97\n",
      "Test Accuracy of the model on the 10000 test images: 0.99\n",
      "Test Accuracy of the model on the 10000 test images: 1.00\n",
      "Test Accuracy of the model on the 10000 test images: 1.00\n",
      "Test Accuracy of the model on the 10000 test images: 0.99\n",
      "Test Accuracy of the model on the 10000 test images: 1.00\n",
      "Test Accuracy of the model on the 10000 test images: 0.98\n",
      "Test Accuracy of the model on the 10000 test images: 0.98\n",
      "Test Accuracy of the model on the 10000 test images: 1.00\n",
      "Test Accuracy of the model on the 10000 test images: 1.00\n",
      "Test Accuracy of the model on the 10000 test images: 0.99\n",
      "Test Accuracy of the model on the 10000 test images: 0.98\n",
      "Test Accuracy of the model on the 10000 test images: 1.00\n",
      "Test Accuracy of the model on the 10000 test images: 0.95\n",
      "Test Accuracy of the model on the 10000 test images: 0.99\n",
      "Test Accuracy of the model on the 10000 test images: 0.99\n",
      "Test Accuracy of the model on the 10000 test images: 0.96\n",
      "Test Accuracy of the model on the 10000 test images: 0.99\n",
      "Test Accuracy of the model on the 10000 test images: 0.99\n",
      "Test Accuracy of the model on the 10000 test images: 0.98\n",
      "Test Accuracy of the model on the 10000 test images: 0.99\n",
      "Test Accuracy of the model on the 10000 test images: 0.96\n",
      "Test Accuracy of the model on the 10000 test images: 1.00\n",
      "Test Accuracy of the model on the 10000 test images: 1.00\n",
      "Test Accuracy of the model on the 10000 test images: 0.99\n",
      "Test Accuracy of the model on the 10000 test images: 0.93\n",
      "Test Accuracy of the model on the 10000 test images: 0.98\n",
      "Test Accuracy of the model on the 10000 test images: 1.00\n",
      "Test Accuracy of the model on the 10000 test images: 0.96\n",
      "Test Accuracy of the model on the 10000 test images: 1.00\n",
      "Test Accuracy of the model on the 10000 test images: 0.99\n",
      "Test Accuracy of the model on the 10000 test images: 0.94\n",
      "Test Accuracy of the model on the 10000 test images: 0.97\n",
      "Test Accuracy of the model on the 10000 test images: 0.97\n",
      "Test Accuracy of the model on the 10000 test images: 0.97\n",
      "Test Accuracy of the model on the 10000 test images: 0.98\n",
      "Test Accuracy of the model on the 10000 test images: 0.97\n",
      "Test Accuracy of the model on the 10000 test images: 0.97\n",
      "Test Accuracy of the model on the 10000 test images: 0.98\n",
      "Test Accuracy of the model on the 10000 test images: 0.97\n",
      "Test Accuracy of the model on the 10000 test images: 0.99\n",
      "Test Accuracy of the model on the 10000 test images: 0.96\n",
      "Test Accuracy of the model on the 10000 test images: 1.00\n",
      "Test Accuracy of the model on the 10000 test images: 0.98\n",
      "Test Accuracy of the model on the 10000 test images: 1.00\n",
      "Test Accuracy of the model on the 10000 test images: 0.98\n",
      "Test Accuracy of the model on the 10000 test images: 0.99\n",
      "Test Accuracy of the model on the 10000 test images: 0.99\n",
      "Test Accuracy of the model on the 10000 test images: 0.99\n",
      "Test Accuracy of the model on the 10000 test images: 0.99\n",
      "Test Accuracy of the model on the 10000 test images: 0.98\n",
      "Test Accuracy of the model on the 10000 test images: 0.98\n",
      "Test Accuracy of the model on the 10000 test images: 1.00\n",
      "Test Accuracy of the model on the 10000 test images: 0.99\n",
      "Test Accuracy of the model on the 10000 test images: 1.00\n",
      "Test Accuracy of the model on the 10000 test images: 0.99\n",
      "Test Accuracy of the model on the 10000 test images: 0.98\n"
     ]
    }
   ],
   "source": [
    "def test():\n",
    "    # Test the model\n",
    "    cnn.eval()\n",
    "    with torch.no_grad():\n",
    "        correct = 0\n",
    "        total = 0\n",
    "        for images, labels in loaders['test']:\n",
    "            test_output, last_layer = cnn(images)\n",
    "            pred_y = torch.max(test_output, 1)[1].data.squeeze()\n",
    "            accuracy = (pred_y == labels).sum().item() / float(labels.size(0))\n",
    "            print('Test Accuracy of the model on the 10000 test images: %.2f' % accuracy)\n",
    "    \n",
    "test()"
   ]
  },
  {
   "cell_type": "markdown",
   "id": "1516e056",
   "metadata": {},
   "source": [
    "# Zeige 10 Vorhersagen an"
   ]
  },
  {
   "cell_type": "code",
   "execution_count": 94,
   "id": "b687d76c",
   "metadata": {
    "scrolled": true
   },
   "outputs": [
    {
     "name": "stdout",
     "output_type": "stream",
     "text": [
      "Prediction number: [8 8 9 0 3 5 5 2 3 9]\n",
      "Actual number: [8 8 3 0 3 5 5 2 3 9]\n"
     ]
    }
   ],
   "source": [
    "sample = next(iter(loaders['test']))\n",
    "imgs, lbls = sample\n",
    "\n",
    "actual_number = lbls[:10].numpy()\n",
    "actual_number\n",
    "\n",
    "test_output, last_layer = cnn(imgs[:10])\n",
    "pred_y = torch.max(test_output, 1)[1].data.numpy().squeeze()\n",
    "print(f'Prediction number: {pred_y}')\n",
    "print(f'Actual number: {actual_number}')"
   ]
  },
  {
   "cell_type": "markdown",
   "id": "2ebff908",
   "metadata": {},
   "source": [
    "# Praktische Aufgabe:\n",
    "legen Sie eigene Ziffernbilder an und lassen Sie diese vom CNN prädizieren"
   ]
  },
  {
   "cell_type": "markdown",
   "id": "fc099172",
   "metadata": {},
   "source": [
    "## Zunächst Analyse der Daten, wie sie ins CNN hineingehen"
   ]
  },
  {
   "cell_type": "code",
   "execution_count": 93,
   "id": "af9a4584",
   "metadata": {},
   "outputs": [
    {
     "data": {
      "text/plain": [
       "torch.Size([2, 1, 28, 28])"
      ]
     },
     "execution_count": 93,
     "metadata": {},
     "output_type": "execute_result"
    }
   ],
   "source": [
    "imgs[:2].shape\n"
   ]
  },
  {
   "cell_type": "code",
   "execution_count": 92,
   "id": "c500e290",
   "metadata": {},
   "outputs": [
    {
     "name": "stdout",
     "output_type": "stream",
     "text": [
      "tensor([[[[0., 0., 0.,  ..., 0., 0., 0.],\n",
      "          [0., 0., 0.,  ..., 0., 0., 0.],\n",
      "          [0., 0., 0.,  ..., 0., 0., 0.],\n",
      "          ...,\n",
      "          [0., 0., 0.,  ..., 0., 0., 0.],\n",
      "          [0., 0., 0.,  ..., 0., 0., 0.],\n",
      "          [0., 0., 0.,  ..., 0., 0., 0.]]],\n",
      "\n",
      "\n",
      "        [[[0., 0., 0.,  ..., 0., 0., 0.],\n",
      "          [0., 0., 0.,  ..., 0., 0., 0.],\n",
      "          [0., 0., 0.,  ..., 0., 0., 0.],\n",
      "          ...,\n",
      "          [0., 0., 0.,  ..., 0., 0., 0.],\n",
      "          [0., 0., 0.,  ..., 0., 0., 0.],\n",
      "          [0., 0., 0.,  ..., 0., 0., 0.]]]])\n"
     ]
    }
   ],
   "source": [
    "print(imgs[:2])"
   ]
  },
  {
   "cell_type": "markdown",
   "id": "89c7cd11",
   "metadata": {},
   "source": [
    "## Tensor in numpy array wandeln, wenn man diesen über plot anzeigen möchte"
   ]
  },
  {
   "cell_type": "code",
   "execution_count": 58,
   "id": "38affa5e",
   "metadata": {},
   "outputs": [
    {
     "data": {
      "text/plain": [
       "2"
      ]
     },
     "execution_count": 58,
     "metadata": {},
     "output_type": "execute_result"
    }
   ],
   "source": [
    "Image = (255*imgs[5]).round()\n",
    "Data = Image.numpy()\n",
    "Data = Data[0,:,:]\n",
    "Data = Data.astype(np.uint8)\n",
    "Data.ndim"
   ]
  },
  {
   "cell_type": "code",
   "execution_count": 59,
   "id": "b6abc9d9",
   "metadata": {},
   "outputs": [
    {
     "data": {
      "image/png": "[encoded data removed]",
      "text/plain": [
       "<Figure size 640x480 with 1 Axes>"
      ]
     },
     "metadata": {},
     "output_type": "display_data"
    }
   ],
   "source": [
    "plt.imshow(Data, cmap='gray')\n",
    "plt.title('%i' % pred_y[5])\n",
    "plt.show()"
   ]
  },
  {
   "cell_type": "code",
   "execution_count": 103,
   "id": "b6ead8fc",
   "metadata": {},
   "outputs": [
    {
     "data": {
      "image/png": "[encoded data removed]",
      "text/plain": [
       "<Figure size 600x300 with 9 Axes>"
      ]
     },
     "metadata": {},
     "output_type": "display_data"
    }
   ],
   "source": [
    "import imageio.v3 as iio\n",
    "myDigits = np.zeros(9*28*28)\n",
    "myDigits = myDigits.reshape(9,1,28,28);\n",
    "myDigits[0,:,:,:] = iio.imread('data/1.png')\n",
    "myDigits[0,:,:,:] = 255-myDigits[0,:,:,:]\n",
    "myDigits[1,:,:,:] = iio.imread('data/2.png')\n",
    "myDigits[1,:,:,:] = 255-myDigits[1,:,:,:]\n",
    "myDigits[2,:,:,:] = iio.imread('data/3.png')\n",
    "myDigits[2,:,:,:] = 255-myDigits[2,:,:,:]\n",
    "myDigits[3,:,:,:] = iio.imread('data/4.png')\n",
    "myDigits[3,:,:,:] = 255-myDigits[3,:,:,:]\n",
    "myDigits[4,:,:,:] = iio.imread('data/5.png')\n",
    "myDigits[4,:,:,:] = 255-myDigits[4,:,:,:]\n",
    "myDigits[5,:,:,:] = iio.imread('data/6.png')\n",
    "myDigits[5,:,:,:] = 255-myDigits[5,:,:,:]\n",
    "myDigits[6,:,:,:] = iio.imread('data/7.png')\n",
    "myDigits[6,:,:,:] = 255-myDigits[6,:,:,:]\n",
    "myDigits[7,:,:,:] = iio.imread('data/8.png')\n",
    "myDigits[7,:,:,:] = 255-myDigits[7,:,:,:]\n",
    "myDigits[8,:,:,:] = iio.imread('data/9.png')\n",
    "myDigits[8,:,:,:] = 255-myDigits[8,:,:,:]\n",
    "\n",
    "figure = plt.figure(figsize=(6, 3))\n",
    "cols, rows = 3, 3\n",
    "for i in range(1, cols * rows + 1):\n",
    "    figure.add_subplot(rows, cols, i)\n",
    "    #plt.title(label)\n",
    "    plt.axis(\"off\")\n",
    "    plt.imshow(myDigits[i-1,0,:,:], cmap=\"gray\")\n",
    "plt.show()"
   ]
  },
  {
   "cell_type": "code",
   "execution_count": 105,
   "id": "cdea1912",
   "metadata": {},
   "outputs": [
    {
     "data": {
      "text/plain": [
       "torch.Size([9, 1, 28, 28])"
      ]
     },
     "execution_count": 105,
     "metadata": {},
     "output_type": "execute_result"
    }
   ],
   "source": [
    "imgTensor = torch.tensor(myDigits/255, dtype=torch.float32)\n",
    "imgTensor = torch.reshape(imgTensor, (9,1,28,28))\n",
    "#print(imgTensor)\n",
    "imgTensor.shape"
   ]
  },
  {
   "cell_type": "code",
   "execution_count": 106,
   "id": "9a526821",
   "metadata": {},
   "outputs": [
    {
     "name": "stdout",
     "output_type": "stream",
     "text": [
      "[1 2 3 4 5 6 7 8 9]\n"
     ]
    }
   ],
   "source": [
    "test_output, last_layer = cnn(imgTensor)\n",
    "pred_y = torch.max(test_output, 1)[1].data.numpy().squeeze()\n",
    "print(pred_y)"
   ]
  },
  {
   "cell_type": "markdown",
   "id": "a8327624",
   "metadata": {},
   "source": [
    "# Anzahl der Parameter des CNNs bestimmen"
   ]
  },
  {
   "cell_type": "code",
   "execution_count": 107,
   "id": "705003a1",
   "metadata": {},
   "outputs": [
    {
     "data": {
      "text/plain": [
       "28938"
      ]
     },
     "execution_count": 107,
     "metadata": {},
     "output_type": "execute_result"
    }
   ],
   "source": [
    "def count_parameters(model):\n",
    "    return sum(p.numel() for p in model.parameters() if p.requires_grad)\n",
    "count_parameters(cnn)"
   ]
  },
  {
   "cell_type": "code",
   "execution_count": 110,
   "id": "b6d854e3",
   "metadata": {
    "scrolled": false
   },
   "outputs": [
    {
     "name": "stdout",
     "output_type": "stream",
     "text": [
      "Parameter containing:\n",
      "tensor([[[[-0.6480, -0.5514, -0.0499,  0.0027,  0.2588],\n",
      "          [-0.2974,  0.1010,  0.2995,  0.5962,  0.7392],\n",
      "          [ 0.2220,  0.4319,  0.2367, -0.1430,  0.3054],\n",
      "          [-0.1486,  0.1449, -0.0554, -1.4759, -0.2060],\n",
      "          [-0.0034, -0.6262, -1.1569,  0.0090,  0.6435]]],\n",
      "\n",
      "\n",
      "        [[[-0.3211, -0.3809, -0.0845,  0.1560, -0.2674],\n",
      "          [-0.6605, -0.5621,  0.2483, -0.0652, -0.3578],\n",
      "          [-0.6527,  0.1441,  0.1651, -0.4712, -0.6648],\n",
      "          [-0.3262,  0.1234, -0.3791, -0.3965, -0.1675],\n",
      "          [-0.1750, -0.1935, -0.3136, -0.0679, -0.3808]]],\n",
      "\n",
      "\n",
      "        [[[ 0.1886, -0.0993, -1.2470, -0.3866, -0.0401],\n",
      "          [-0.1773, -1.2903, -0.2162, -0.1386,  0.1421],\n",
      "          [-0.3799, -0.9938, -0.8032,  0.2096,  0.1961],\n",
      "          [-0.2002, -0.7788, -0.9898,  0.1226,  0.3529],\n",
      "          [-0.6315, -0.7092, -0.1479,  0.5538,  0.2282]]],\n",
      "\n",
      "\n",
      "        [[[ 0.0079,  0.0499,  0.2150,  0.0363,  0.1298],\n",
      "          [-0.9507, -1.1327, -1.1464, -1.1776, -0.3534],\n",
      "          [ 0.0201, -0.0329, -0.3680, -0.6347, -0.5917],\n",
      "          [ 0.6068,  0.1247, -0.0804,  0.1914, -0.5158],\n",
      "          [ 0.3368,  0.1907,  0.2985,  0.3096,  0.5348]]],\n",
      "\n",
      "\n",
      "        [[[ 0.0165,  0.0239, -0.4034, -0.1664,  0.0124],\n",
      "          [-0.1115, -0.3407, -0.2837, -0.3709,  0.0596],\n",
      "          [-0.2625, -0.5343, -0.3422,  0.0292, -0.2089],\n",
      "          [-0.1467, -0.1857, -0.2738,  0.0419,  0.0361],\n",
      "          [-0.1815, -0.0646, -0.4155, -0.2151,  0.1512]]],\n",
      "\n",
      "\n",
      "        [[[-0.4192,  0.0255,  0.3345, -0.7688, -1.1181],\n",
      "          [-1.1181,  0.6920, -0.0648, -1.0144, -0.6737],\n",
      "          [-1.0677,  0.6885, -0.2102, -0.3685,  0.2914],\n",
      "          [-0.5565,  0.5511, -0.7409,  0.0741,  0.0382],\n",
      "          [ 0.0134,  0.2532, -1.1471, -1.1099,  0.2785]]],\n",
      "\n",
      "\n",
      "        [[[ 0.0630, -0.8629, -1.3102, -1.1543, -0.5718],\n",
      "          [-0.6609, -0.6082,  0.6382,  0.3253, -0.1875],\n",
      "          [-0.0748,  0.4860,  0.8681,  0.1096, -0.2939],\n",
      "          [-0.1509, -0.4086, -0.7890, -1.4170, -1.1854],\n",
      "          [-0.6967, -0.8569, -0.2465, -0.4548, -0.0242]]],\n",
      "\n",
      "\n",
      "        [[[-0.0761, -0.1530, -0.6917, -0.7200, -0.0870],\n",
      "          [ 0.2652,  0.5310,  0.9002, -0.1150, -0.6867],\n",
      "          [-0.6696, -0.2736,  0.1257, -0.0148, -0.5996],\n",
      "          [-0.4020, -0.9750, -0.8239, -0.0924, -0.4752],\n",
      "          [ 0.3312, -0.2119, -0.6454, -0.3293, -0.3571]]],\n",
      "\n",
      "\n",
      "        [[[ 0.3314, -0.0477, -0.4331, -1.0771,  0.0030],\n",
      "          [ 0.1492, -0.1770, -0.0605, -0.3431, -0.2290],\n",
      "          [ 0.3517,  1.0711,  0.6761,  0.0251, -0.0626],\n",
      "          [-0.4309,  0.1742,  0.2009,  0.2251, -0.0989],\n",
      "          [-1.3333, -0.3590,  0.2539, -0.0773,  0.0083]]],\n",
      "\n",
      "\n",
      "        [[[ 0.5383,  0.1763,  0.2720,  0.1877,  0.7511],\n",
      "          [-0.3558, -0.0733,  0.3005,  0.1511,  0.0811],\n",
      "          [-0.3603, -0.5037,  0.4053, -0.0962, -0.4679],\n",
      "          [-0.8809, -2.3495, -1.4071, -1.6140, -0.7140],\n",
      "          [ 0.6625, -0.6713, -0.3573,  0.2906,  0.3669]]],\n",
      "\n",
      "\n",
      "        [[[ 0.3267,  0.2803, -0.2000, -1.1815,  0.0756],\n",
      "          [ 0.0530,  0.2639,  0.1924, -0.8529,  0.1905],\n",
      "          [ 0.3991,  0.5767, -0.1714, -1.3943,  0.0392],\n",
      "          [ 0.3104,  0.0688, -0.6856, -0.8594, -0.2463],\n",
      "          [-0.1173, -0.0815, -0.4970, -0.2448,  0.7463]]],\n",
      "\n",
      "\n",
      "        [[[ 0.3137, -1.0188,  0.1594,  0.0383,  0.3143],\n",
      "          [-1.1771, -1.1008, -1.0779, -0.2778,  0.3556],\n",
      "          [-0.5624, -0.4902, -2.3402, -0.1457,  0.5118],\n",
      "          [-0.5417, -0.2323, -1.5340, -0.9809,  0.0746],\n",
      "          [-0.4268,  0.2626,  0.3609, -1.0225, -0.6448]]],\n",
      "\n",
      "\n",
      "        [[[ 0.4915,  0.1766, -0.4396, -0.7605,  0.2009],\n",
      "          [ 0.7247, -0.0203, -0.1800, -2.3145, -0.5281],\n",
      "          [-0.2569, -0.0663, -1.7985, -1.9106, -0.5786],\n",
      "          [-0.5080, -2.5693, -0.0654, -1.1495, -0.8664],\n",
      "          [-0.4886,  0.5124, -0.2551, -0.3151, -0.4367]]],\n",
      "\n",
      "\n",
      "        [[[ 0.0064,  0.0464,  0.0483, -0.2433, -1.0731],\n",
      "          [-0.1206,  0.1707,  0.1471, -0.0945, -0.2971],\n",
      "          [-0.4022,  0.0742,  0.0114,  0.0436,  0.0953],\n",
      "          [-0.2026,  0.0926, -0.2038,  0.1045, -0.1112],\n",
      "          [ 0.0420,  0.0985, -0.2875, -0.0044,  0.2068]]],\n",
      "\n",
      "\n",
      "        [[[-0.0393, -0.0943,  0.2058,  0.2787, -0.1820],\n",
      "          [-0.1562, -0.1619, -0.5059, -0.1319, -0.0028],\n",
      "          [-0.7034, -0.4187, -0.2682, -0.1003,  0.1300],\n",
      "          [-0.5830, -0.3455,  0.0149,  0.1513, -0.0186],\n",
      "          [-0.5460,  0.0760,  0.2178,  0.2642, -0.2428]]],\n",
      "\n",
      "\n",
      "        [[[ 0.3028, -0.1660, -0.1320, -0.1680, -0.6457],\n",
      "          [-0.2856,  0.4187,  0.0539, -0.7787, -1.1334],\n",
      "          [ 0.0992, -0.9355, -1.6518, -0.1963, -0.1853],\n",
      "          [ 0.1452, -1.1755,  0.1540, -0.2917,  0.3970],\n",
      "          [-0.3811, -0.1593,  0.1680,  0.5187,  0.7362]]]], requires_grad=True)\n"
     ]
    },
    {
     "data": {
      "text/plain": [
       "torch.Size([16, 1, 5, 5])"
      ]
     },
     "execution_count": 110,
     "metadata": {},
     "output_type": "execute_result"
    }
   ],
   "source": [
    "print(cnn.conv1[0].weight)\n",
    "cnn.conv1[0].weight.shape"
   ]
  },
  {
   "cell_type": "markdown",
   "id": "ea5e7435",
   "metadata": {},
   "source": [
    "# Ein paar gelerne Kernel-Matrizen der 1. Stufe anzeigen "
   ]
  },
  {
   "cell_type": "code",
   "execution_count": 111,
   "id": "be17f7df",
   "metadata": {},
   "outputs": [],
   "source": [
    "def visTensor(tensor, ch=0, allkernels=False, nrow=8, padding=1): \n",
    "    n,c,w,h = tensor.shape\n",
    "\n",
    "    if allkernels: tensor = tensor.view(n*c, -1, w, h)\n",
    "    elif c != 3: tensor = tensor[:,ch,:,:].unsqueeze(dim=1)\n",
    "\n",
    "    rows = np.min((tensor.shape[0] // nrow + 1, 64))    \n",
    "    grid = utils.make_grid(tensor, nrow=nrow, normalize=True, padding=padding)\n",
    "    plt.figure( figsize=(nrow,rows) )\n",
    "    plt.imshow(grid.numpy().transpose((1, 2, 0)))"
   ]
  },
  {
   "cell_type": "code",
   "execution_count": 118,
   "id": "d4606e66",
   "metadata": {},
   "outputs": [
    {
     "data": {
      "image/png": "[encoded data removed]",
      "text/plain": [
       "<Figure size 800x300 with 1 Axes>"
      ]
     },
     "metadata": {},
     "output_type": "display_data"
    }
   ],
   "source": [
    "from torchvision import utils\n",
    "\n",
    "if __name__ == \"__main__\":\n",
    "    layer = 1\n",
    "    filter = cnn.conv1[0].weight.data.clone()\n",
    "    visTensor(filter, ch=0, allkernels=False)\n",
    "\n",
    "    plt.axis('off')\n",
    "    plt.ioff()\n",
    "    plt.show()"
   ]
  },
  {
   "cell_type": "markdown",
   "id": "7d68d17c",
   "metadata": {},
   "source": [
    "# Ein paar gelerne Kernel-Matrizen der 2. Stufe anzeigen "
   ]
  },
  {
   "cell_type": "code",
   "execution_count": 116,
   "id": "c1c4d302",
   "metadata": {},
   "outputs": [
    {
     "data": {
      "image/png": "[encoded data removed]",
      "text/plain": [
       "<Figure size 800x500 with 1 Axes>"
      ]
     },
     "metadata": {},
     "output_type": "display_data"
    }
   ],
   "source": [
    "filter = cnn.conv2[0].weight.data.clone()\n",
    "visTensor(filter, ch=0, allkernels=False)\n",
    "\n",
    "plt.axis('off')\n",
    "plt.ioff()\n",
    "plt.show()"
   ]
  },
  {
   "cell_type": "code",
   "execution_count": 123,
   "id": "6f62e7b5",
   "metadata": {},
   "outputs": [
    {
     "name": "stdout",
     "output_type": "stream",
     "text": [
      "torch.Size([16, 1, 5, 5])\n",
      "torch.Size([16])\n",
      "torch.Size([32, 16, 5, 5])\n",
      "torch.Size([32])\n",
      "torch.Size([10, 1568])\n",
      "torch.Size([10])\n"
     ]
    }
   ],
   "source": [
    "for p in cnn.parameters():\n",
    "    print(p.shape)"
   ]
  },
  {
   "cell_type": "markdown",
   "id": "d8267e6e",
   "metadata": {},
   "source": [
    "# Erklärung der Parameter:"
   ]
  },
  {
   "cell_type": "markdown",
   "id": "60fe71af",
   "metadata": {},
   "source": [
    " * #Kernel mal Größe in der 1. Convolution Schicht = 16 * 5x5  =  400 Parameter   \n",
    " * $W_i \\cdot I+b_i$   ($b_i =$ Bias) für $i=1..16$   =  16 Parameter   \n",
    " * #Kernel in der 2. Convol.Schicht mal Größe mal #Faltungsergebnisse aus 1. Schicht = 32 * 16 * 5x5 = 12.800 Parameter   \n",
    " * $W_i \\cdot I+b_i$   ($b_i =$ Bias) für $i=1..32$   =  32 Parameter   \n",
    " * Fully connected layer 1568 Neuronen müssen jeweils mit 10 Neuronen verbunden werden = 10 * 1568 = 15.680 Parameter   \n",
    " *  Je Output-Neuron ein Bias-Wert = 10  Parameter\n",
    "______________________________\n",
    "     Summe              28.938 Parameter"
   ]
  },
  {
   "cell_type": "code",
   "execution_count": null,
   "id": "8c848237",
   "metadata": {},
   "outputs": [],
   "source": []
  }
 ],
 "metadata": {
  "kernelspec": {
   "display_name": "Python 3 (ipykernel)",
   "language": "python",
   "name": "python3"
  },
  "language_info": {
   "codemirror_mode": {
    "name": "ipython",
    "version": 3
   },
   "file_extension": ".py",
   "mimetype": "text/x-python",
   "name": "python",
   "nbconvert_exporter": "python",
   "pygments_lexer": "ipython3",
   "version": "3.11.4"
  }
 },
 "nbformat": 4,
 "nbformat_minor": 5
}
